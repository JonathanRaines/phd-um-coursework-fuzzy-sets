{
 "cells": [
  {
   "cell_type": "markdown",
   "metadata": {},
   "source": [
    "# Uncertainty Modelling in Intelligent Systems Coursework\n",
    "## An Investigation into Fuzzy Sets"
   ]
  },
  {
   "cell_type": "code",
   "execution_count": 42,
   "metadata": {},
   "outputs": [],
   "source": [
    "from pprint import pprint"
   ]
  },
  {
   "cell_type": "code",
   "execution_count": 43,
   "metadata": {},
   "outputs": [],
   "source": [
    "from fuzzy_sets import probability\n",
    "import fuzzy_sets.alpha\n",
    "from fuzzy_sets.alpha import AlphaRange\n",
    "from fuzzy_sets.classes import FuzzySet, FuzzySetMember\n",
    "from fuzzy_sets.probability import ProbabilityDistribution, Probability\n",
    "import fuzzy_sets.functions"
   ]
  },
  {
   "cell_type": "code",
   "execution_count": 44,
   "metadata": {},
   "outputs": [
    {
     "name": "stdout",
     "output_type": "stream",
     "text": [
      "('Vogon/0.1 + Marvin/0.1 + The poor whale/0.2 + Agrajag/0.3 + Deep Thought/0.4 '\n",
      " '+ Arthur Dent/0.5 + Slartibartfast/0.6 + Fenchurch/0.7 + Trillian/0.7 + Ford '\n",
      " 'Prefect/1.0 + Zaphod Beeblebrox/1.0')\n"
     ]
    }
   ],
   "source": [
    "frood = FuzzySet(\n",
    "        {\n",
    "            FuzzySetMember(\"Ford Prefect\", 1.0),\n",
    "            FuzzySetMember(\"Zaphod Beeblebrox\", 1.0),\n",
    "            FuzzySetMember(\"Trillian\", 0.7),\n",
    "            FuzzySetMember(\"Fenchurch\", 0.7),\n",
    "            FuzzySetMember(\"Slartibartfast\", 0.6),\n",
    "            FuzzySetMember(\"Arthur Dent\", 0.5),\n",
    "            FuzzySetMember(\"Deep Thought\", 0.4),\n",
    "            FuzzySetMember(\"Agrajag\", 0.3),\n",
    "            FuzzySetMember(\"The poor whale\", 0.2),\n",
    "            FuzzySetMember(\"Marvin\", 0.1),\n",
    "            FuzzySetMember(\"Vogon\", 0.1),\n",
    "        }\n",
    "    )\n",
    "\n",
    "pprint(str(frood))"
   ]
  },
  {
   "cell_type": "markdown",
   "metadata": {},
   "source": [
    "### Q2(a) Alpha Cuts"
   ]
  },
  {
   "cell_type": "markdown",
   "metadata": {},
   "source": [
    "The alpha cut for *Frood* with $\\alpha = 0.5$\n",
    "\n",
    "$\\tilde{\\text{Frood}}_{0.5}$:"
   ]
  },
  {
   "cell_type": "code",
   "execution_count": 45,
   "metadata": {},
   "outputs": [
    {
     "name": "stdout",
     "output_type": "stream",
     "text": [
      "{'Arthur Dent',\n",
      " 'Fenchurch',\n",
      " 'Ford Prefect',\n",
      " 'Slartibartfast',\n",
      " 'Trillian',\n",
      " 'Zaphod Beeblebrox'}\n"
     ]
    }
   ],
   "source": [
    "pprint(fuzzy_sets.alpha.alpha_cut(frood, 0.5))"
   ]
  },
  {
   "cell_type": "markdown",
   "metadata": {},
   "source": [
    "The full $\\alpha$ representation of *Frood*"
   ]
  },
  {
   "cell_type": "code",
   "execution_count": 46,
   "metadata": {},
   "outputs": [
    {
     "name": "stdout",
     "output_type": "stream",
     "text": [
      "{Agrajag, Arthur Dent, Deep Thought, Fenchurch, Ford Prefect, Marvin, Slartibartfast, The poor whale, Trillian, Vogon, Zaphod Beeblebrox}: α ∈ (0.0, 0.1]\n",
      "{Agrajag, Arthur Dent, Deep Thought, Fenchurch, Ford Prefect, Slartibartfast, The poor whale, Trillian, Zaphod Beeblebrox}: α ∈ (0.1, 0.2]\n",
      "{Agrajag, Arthur Dent, Deep Thought, Fenchurch, Ford Prefect, Slartibartfast, Trillian, Zaphod Beeblebrox}: α ∈ (0.2, 0.3]\n",
      "{Arthur Dent, Deep Thought, Fenchurch, Ford Prefect, Slartibartfast, Trillian, Zaphod Beeblebrox}: α ∈ (0.3, 0.4]\n",
      "{Arthur Dent, Fenchurch, Ford Prefect, Slartibartfast, Trillian, Zaphod Beeblebrox}: α ∈ (0.4, 0.5]\n",
      "{Fenchurch, Ford Prefect, Slartibartfast, Trillian, Zaphod Beeblebrox}: α ∈ (0.5, 0.6]\n",
      "{Fenchurch, Ford Prefect, Trillian, Zaphod Beeblebrox}: α ∈ (0.6, 0.7]\n",
      "{Ford Prefect, Zaphod Beeblebrox}: α ∈ (0.7, 1.0]\n"
     ]
    }
   ],
   "source": [
    "frood_alpha_ranges = fuzzy_sets.alpha.alpha_ranges(frood)\n",
    "print(\"\\n\".join([str(range) for range in frood_alpha_ranges]))"
   ]
  },
  {
   "cell_type": "markdown",
   "metadata": {},
   "source": [
    "### Q2(b) Alpha to Fuzzy Set"
   ]
  },
  {
   "cell_type": "code",
   "execution_count": 47,
   "metadata": {},
   "outputs": [
    {
     "name": "stdout",
     "output_type": "stream",
     "text": [
      "{uncertainty modelling coursework, video games}: α ∈ (0, 0.5]\n",
      "{uncertainty modelling coursework}: α ∈ (0.5, 1]\n"
     ]
    }
   ],
   "source": [
    "fun_alpha_ranges = [\n",
    "        AlphaRange(0, 0.5, {\"video games\", \"uncertainty modelling coursework\"}),\n",
    "        AlphaRange(0.5, 1, {\"uncertainty modelling coursework\"}),\n",
    "    ]\n",
    "\n",
    "print(\"\\n\".join([str(range) for range in fun_alpha_ranges]))"
   ]
  },
  {
   "cell_type": "code",
   "execution_count": 48,
   "metadata": {},
   "outputs": [
    {
     "name": "stdout",
     "output_type": "stream",
     "text": [
      "video games/0.5 + uncertainty modelling coursework/1\n"
     ]
    }
   ],
   "source": [
    "fun = fuzzy_sets.alpha.fuzzy_set_from_alpha_ranges(fun_alpha_ranges)\n",
    "print(fun)"
   ]
  },
  {
   "cell_type": "markdown",
   "metadata": {},
   "source": [
    "### Q2(c) Functions\n"
   ]
  },
  {
   "cell_type": "code",
   "execution_count": 49,
   "metadata": {},
   "outputs": [
    {
     "name": "stdout",
     "output_type": "stream",
     "text": [
      "Die high scores: 1/0.1 + 2/0.2 + 3/0.4 + 4/0.6 + 5/0.8 + 6/1.0\n"
     ]
    }
   ],
   "source": [
    "die_high_scores = FuzzySet(\n",
    "        {\n",
    "            FuzzySetMember(1, 0.1),\n",
    "            FuzzySetMember(2, 0.2),\n",
    "            FuzzySetMember(3, 0.4),\n",
    "            FuzzySetMember(4, 0.6),\n",
    "            FuzzySetMember(5, 0.8),\n",
    "            FuzzySetMember(6, 1.0),\n",
    "        }\n",
    "    )\n",
    "\n",
    "print(\"Die high scores:\", die_high_scores)\n"
   ]
  },
  {
   "cell_type": "code",
   "execution_count": 50,
   "metadata": {},
   "outputs": [
    {
     "name": "stdout",
     "output_type": "stream",
     "text": [
      "Squared: 1/0.1 + 4/0.2 + 9/0.4 + 16/0.6 + 25/0.8 + 36/1.0\n",
      "Halved: 0.5/0.1 + 1.0/0.2 + 1.5/0.4 + 2.0/0.6 + 2.5/0.8 + 3.0/1.0\n"
     ]
    }
   ],
   "source": [
    "squared = fuzzy_sets.functions.real_to_real(lambda x: x**2, die_high_scores)\n",
    "print(\"Squared:\", squared)\n",
    "halved = fuzzy_sets.functions.real_to_real(lambda x: x / 2, die_high_scores)\n",
    "print(\"Halved:\", halved)"
   ]
  },
  {
   "cell_type": "code",
   "execution_count": 51,
   "metadata": {},
   "outputs": [
    {
     "name": "stdout",
     "output_type": "stream",
     "text": [
      "Die low scores: 6/0.1 + 5/0.2 + 4/0.4 + 3/0.6 + 2/0.8 + 1/1.0\n"
     ]
    }
   ],
   "source": [
    "die_low_scores = FuzzySet(\n",
    "        {\n",
    "            FuzzySetMember(1, 1.0),\n",
    "            FuzzySetMember(2, 0.8),\n",
    "            FuzzySetMember(3, 0.6),\n",
    "            FuzzySetMember(4, 0.4),\n",
    "            FuzzySetMember(5, 0.2),\n",
    "            FuzzySetMember(6, 0.1),\n",
    "        }\n",
    "    )\n",
    "print(\"Die low scores:\", die_low_scores)"
   ]
  },
  {
   "cell_type": "code",
   "execution_count": 52,
   "metadata": {},
   "outputs": [
    {
     "name": "stdout",
     "output_type": "stream",
     "text": [
      "Added: 2/0.1 + 12/0.1 + 3/0.2 + 11/0.2 + 4/0.4 + 10/0.4 + 5/0.6 + 9/0.6 + 6/0.8 + 8/0.8 + 7/1.0\n",
      "Three way add: 3/0.1 + 4/0.1 + 5/0.1 + 6/0.1 + 37/0.1 + 38/0.1 + 48/0.1 + 7/0.2 + 8/0.2 + 9/0.2 + 10/0.2 + 11/0.2 + 12/0.2 + 27/0.2 + 28/0.2 + 36/0.2 + 39/0.2 + 47/0.2 + 13/0.4 + 14/0.4 + 15/0.4 + 16/0.4 + 17/0.4 + 18/0.4 + 19/0.4 + 20/0.4 + 26/0.4 + 29/0.4 + 35/0.4 + 40/0.4 + 46/0.4 + 21/0.6 + 22/0.6 + 23/0.6 + 24/0.6 + 25/0.6 + 30/0.6 + 34/0.6 + 41/0.6 + 45/0.6 + 31/0.8 + 32/0.8 + 33/0.8 + 42/0.8 + 44/0.8 + 43/1.0\n"
     ]
    }
   ],
   "source": [
    "added = fuzzy_sets.functions.apply(\n",
    "    lambda x, y: x + y, die_high_scores, die_low_scores\n",
    ")\n",
    "print(\"Added:\", added)\n",
    "\n",
    "three_way_add = fuzzy_sets.functions.apply(\n",
    "    lambda x, y, z: x + y + z, die_high_scores, die_low_scores, squared\n",
    ")\n",
    "print(\"Three way add:\", three_way_add)"
   ]
  },
  {
   "cell_type": "markdown",
   "metadata": {},
   "source": [
    "### Q2(d) Conditional Probabilities with Fuzzy Propositions\n",
    "\n",
    "Consider tossing a coin twice in a row. The set of all possible worlds *W* is: "
   ]
  },
  {
   "cell_type": "code",
   "execution_count": 53,
   "metadata": {},
   "outputs": [
    {
     "name": "stdout",
     "output_type": "stream",
     "text": [
      "{('T', 'T'), ('H', 'H'), ('T', 'H'), ('H', 'T')}\n"
     ]
    }
   ],
   "source": [
    "W = {(\"H\", \"H\"), (\"H\", \"T\"), (\"T\", \"H\"), (\"T\", \"T\")}\n",
    "pprint(W)"
   ]
  },
  {
   "cell_type": "markdown",
   "metadata": {},
   "source": [
    "If the coin is fair, the probability distribution is: "
   ]
  },
  {
   "cell_type": "code",
   "execution_count": 54,
   "metadata": {},
   "outputs": [
    {
     "name": "stdout",
     "output_type": "stream",
     "text": [
      "Fair distribution:\n",
      " P(('T', 'T')) = 0.250, P(('H', 'H')) = 0.250, P(('T', 'H')) = 0.250, P(('H', 'T')) = 0.250\n"
     ]
    }
   ],
   "source": [
    "fair_distribution = ProbabilityDistribution(\n",
    "    {\n",
    "        Probability((\"H\", \"H\"), 0.25),\n",
    "        Probability((\"H\", \"T\"), 0.25),\n",
    "        Probability((\"T\", \"H\"), 0.25),\n",
    "        Probability((\"T\", \"T\"), 0.25),\n",
    "    }\n",
    ")\n",
    "\n",
    "print(\"Fair distribution:\\n\", str(fair_distribution))"
   ]
  },
  {
   "cell_type": "markdown",
   "metadata": {},
   "source": [
    "Now if we consider the fuzzy condition \"a good result\", where getting heads is considered good. Two heads would definitely be a good result, one head and one tails would be ok, and two tails would not be a good result. "
   ]
  },
  {
   "cell_type": "code",
   "execution_count": 55,
   "metadata": {},
   "outputs": [
    {
     "name": "stdout",
     "output_type": "stream",
     "text": [
      "('T', 'H')/0.5 + ('H', 'T')/0.5 + ('H', 'H')/1.0\n"
     ]
    }
   ],
   "source": [
    "good_result = FuzzySet(\n",
    "        {\n",
    "            FuzzySetMember((\"H\", \"H\"), 1.0),\n",
    "            FuzzySetMember((\"H\", \"T\"), 0.5),\n",
    "            FuzzySetMember((\"T\", \"H\"), 0.5),\n",
    "        }\n",
    "    )\n",
    "print(good_result)"
   ]
  },
  {
   "cell_type": "markdown",
   "metadata": {},
   "source": [
    "We can now compute the conditional probability distribution on the outcomes given a good result (i.e. if you get a good result, what are the probabilities of each possible roll)"
   ]
  },
  {
   "cell_type": "code",
   "execution_count": 56,
   "metadata": {},
   "outputs": [
    {
     "name": "stdout",
     "output_type": "stream",
     "text": [
      "Conditional distribution given a good result was obtained:\n",
      " P(('T', 'T')) = 0.000, P(('H', 'H')) = 0.667, P(('T', 'H')) = 0.167, P(('H', 'T')) = 0.167\n",
      "Sum of conditional probabilities: 1.000\n"
     ]
    }
   ],
   "source": [
    "conditional_distribution = probability.conditional_distribution(\n",
    "        fair_distribution, good_result\n",
    "    )\n",
    "\n",
    "print(\n",
    "    \"Conditional distribution given a good result was obtained:\\n\",\n",
    "    str(conditional_distribution),\n",
    ")\n",
    "print(\n",
    "    f\"Sum of conditional probabilities: {sum(conditional_distribution.probabilities):.3f}\"\n",
    ")"
   ]
  },
  {
   "cell_type": "markdown",
   "metadata": {},
   "source": [
    "Now consider an unfair coin, where P(X = H) = 0.25 and P(X = T) = 0.75"
   ]
  },
  {
   "cell_type": "code",
   "execution_count": 57,
   "metadata": {},
   "outputs": [
    {
     "name": "stdout",
     "output_type": "stream",
     "text": [
      "Unfair distribution\n",
      " P(('T', 'T')) = 0.562, P(('H', 'H')) = 0.062, P(('T', 'H')) = 0.188, P(('H', 'T')) = 0.188\n"
     ]
    }
   ],
   "source": [
    "unfair_distribution = ProbabilityDistribution(\n",
    "        {\n",
    "            Probability((\"H\", \"H\"), 0.25**2),\n",
    "            Probability((\"H\", \"T\"), 0.25 * 0.75),\n",
    "            Probability((\"T\", \"H\"), 0.75 * 0.25),\n",
    "            Probability((\"T\", \"T\"), 0.75**2),\n",
    "        }\n",
    "    )\n",
    "print(\"Unfair distribution\\n\", str(unfair_distribution))\n"
   ]
  },
  {
   "cell_type": "code",
   "execution_count": 58,
   "metadata": {},
   "outputs": [
    {
     "name": "stdout",
     "output_type": "stream",
     "text": [
      "Unfair conditional distribution:\n",
      " P(('T', 'T')) = 0.000, P(('H', 'H')) = 0.571, P(('T', 'H')) = 0.214, P(('H', 'T')) = 0.214\n",
      "Sum of conditional probabilities: 1.000\n"
     ]
    }
   ],
   "source": [
    "unfair_conditional_distribution = probability.conditional_distribution(\n",
    "    unfair_distribution, good_result\n",
    ")\n",
    "\n",
    "print(\"Unfair conditional distribution:\\n\", str(unfair_conditional_distribution))\n",
    "\n",
    "print(\n",
    "    f\"Sum of conditional probabilities: {sum(unfair_conditional_distribution.probabilities):.3f}\"\n",
    ")"
   ]
  }
 ],
 "metadata": {
  "kernelspec": {
   "display_name": ".venv",
   "language": "python",
   "name": "python3"
  },
  "language_info": {
   "codemirror_mode": {
    "name": "ipython",
    "version": 3
   },
   "file_extension": ".py",
   "mimetype": "text/x-python",
   "name": "python",
   "nbconvert_exporter": "python",
   "pygments_lexer": "ipython3",
   "version": "3.10.12"
  }
 },
 "nbformat": 4,
 "nbformat_minor": 2
}
