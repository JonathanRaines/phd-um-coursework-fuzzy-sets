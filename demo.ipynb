{
 "cells": [
  {
   "cell_type": "markdown",
   "metadata": {},
   "source": [
    "# Uncertainty Modelling in Intelligent Systems Coursework\n",
    "## An Investigation into Fuzzy Sets"
   ]
  },
  {
   "cell_type": "code",
   "execution_count": 5,
   "metadata": {},
   "outputs": [],
   "source": [
    "from pprint import pprint"
   ]
  },
  {
   "cell_type": "code",
   "execution_count": 2,
   "metadata": {},
   "outputs": [],
   "source": [
    "from fuzzy_sets import probability\n",
    "import fuzzy_sets.alpha\n",
    "from fuzzy_sets.alpha import AlphaRange\n",
    "from fuzzy_sets.classes import FuzzySet, FuzzySetMember\n",
    "from fuzzy_sets.probability import ProbabilityDistribution, Probability\n",
    "import fuzzy_sets.functions"
   ]
  },
  {
   "cell_type": "code",
   "execution_count": 10,
   "metadata": {},
   "outputs": [
    {
     "name": "stdout",
     "output_type": "stream",
     "text": [
      "('Vogon/0.1 + Marvin/0.1 + The poor whale/0.2 + Agrajag/0.3 + Deep Thought/0.4 '\n",
      " '+ Arthur Dent/0.5 + Slartibartfast/0.6 + Fenchurch/0.7 + Trillian/0.7 + Ford '\n",
      " 'Prefect/1.0 + Zaphod Beeblebrox/1.0')\n"
     ]
    }
   ],
   "source": [
    "frood = FuzzySet(\n",
    "        {\n",
    "            FuzzySetMember(\"Ford Prefect\", 1.0),\n",
    "            FuzzySetMember(\"Zaphod Beeblebrox\", 1.0),\n",
    "            FuzzySetMember(\"Trillian\", 0.7),\n",
    "            FuzzySetMember(\"Fenchurch\", 0.7),\n",
    "            FuzzySetMember(\"Slartibartfast\", 0.6),\n",
    "            FuzzySetMember(\"Arthur Dent\", 0.5),\n",
    "            FuzzySetMember(\"Deep Thought\", 0.4),\n",
    "            FuzzySetMember(\"Agrajag\", 0.3),\n",
    "            FuzzySetMember(\"The poor whale\", 0.2),\n",
    "            FuzzySetMember(\"Marvin\", 0.1),\n",
    "            FuzzySetMember(\"Vogon\", 0.1),\n",
    "        }\n",
    "    )\n",
    "\n",
    "pprint(str(frood))"
   ]
  },
  {
   "cell_type": "markdown",
   "metadata": {},
   "source": [
    "### Q2(a) Alpha Cuts"
   ]
  },
  {
   "cell_type": "code",
   "execution_count": 11,
   "metadata": {},
   "outputs": [
    {
     "name": "stdout",
     "output_type": "stream",
     "text": [
      "(\"{'Ford Prefect', 'Arthur Dent', 'Zaphod Beeblebrox', 'Fenchurch', \"\n",
      " \"'Trillian', 'Slartibartfast'}\")\n"
     ]
    }
   ],
   "source": [
    "pprint(fuzzy_sets.alpha.alpha_cut(frood, 0.5))"
   ]
  }
 ],
 "metadata": {
  "kernelspec": {
   "display_name": ".venv",
   "language": "python",
   "name": "python3"
  },
  "language_info": {
   "codemirror_mode": {
    "name": "ipython",
    "version": 3
   },
   "file_extension": ".py",
   "mimetype": "text/x-python",
   "name": "python",
   "nbconvert_exporter": "python",
   "pygments_lexer": "ipython3",
   "version": "3.10.12"
  }
 },
 "nbformat": 4,
 "nbformat_minor": 2
}
